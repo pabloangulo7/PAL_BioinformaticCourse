{
 "cells": [
  {
   "cell_type": "markdown",
   "metadata": {},
   "source": [
    "# Exam 1. Answers. Pablo Angulo Lara"
   ]
  },
  {
   "cell_type": "markdown",
   "metadata": {},
   "source": [
    "## Problem 1\n",
    "\n",
    "\n",
    "* Copy the Locus_Germplasm_Phenotype_20130122.txt file into your copy of the Exams Git\n",
    "* Create a new Jupyter Notebook in your Exams folder called \"Exam_1_Answers\" using the 'bash' kernel \n",
    "* Do the rest of this exam inside of that the \"Exam_1_Answers\" Notebook"
   ]
  },
  {
   "cell_type": "markdown",
   "metadata": {},
   "source": [
    "## Problem 2\n",
    "\n",
    "Create a directory listing command that shows:\n",
    "\n",
    "* the ownership of the file\n",
    "* it's file-size, in Megabytes (i.e. human readable)\n",
    "\n",
    "then:\n",
    "\n",
    "* in words (in a Markdown box), describe the _permissions_ on that file (read/write/execute) for users, groups, and \"anyone\""
   ]
  },
  {
   "cell_type": "code",
   "execution_count": null,
   "metadata": {},
   "outputs": [],
   "source": [
    "ls -lh"
   ]
  },
  {
   "cell_type": "markdown",
   "metadata": {},
   "source": [
    "ls: displays the files and directories we have inside the directory we are in.\n",
    "-l: It shows all the information: user, group, permissions, size, date and time of creation. We can see the owner is osboxes.\n",
    "-lh: It shows the same information as ls -l but with the size units in KB, MB, etc (human readable). \n",
    "\n",
    "Permissions.\n",
    "The user can read and write the file but can't execute it, the group can read and write the file but can't execute it and anyone can only read the file."
   ]
  },
  {
   "cell_type": "markdown",
   "metadata": {},
   "source": [
    "## Problem 3\n",
    "\n",
    "* Create a command that outputs only the \"header\" line of Locus_Germplasm_Phenotype_20130122.txt"
   ]
  },
  {
   "cell_type": "code",
   "execution_count": null,
   "metadata": {},
   "outputs": [],
   "source": [
    "head -1 Locus_Germplasm_Phenotype_20130122.txt"
   ]
  },
  {
   "cell_type": "markdown",
   "metadata": {},
   "source": [
    "The head command allows us to show on screen the content of a file by indicating the number of lines we want to display. In this case, the first line."
   ]
  },
  {
   "cell_type": "markdown",
   "metadata": {},
   "source": [
    "## Problem 4\n",
    "\n",
    "* Create a command that outputs the total number of lines in Locus_Germplasm_Phenotype_20130122.txt"
   ]
  },
  {
   "cell_type": "code",
   "execution_count": null,
   "metadata": {},
   "outputs": [],
   "source": [
    "wc -l Locus_Germplasm_Phenotype_20130122.txt"
   ]
  },
  {
   "cell_type": "markdown",
   "metadata": {},
   "source": [
    "The command \"wc\" (word count) is able to tell you how many words and lines are in a file. -l means \"just the number of lines\"."
   ]
  },
  {
   "cell_type": "markdown",
   "metadata": {},
   "source": [
    "## Problem 5\n",
    "\n",
    "* Create a command that writes ONLY the data lines (i.e. excludes the header!) to a new file called \"Data_Only.csv\"\n",
    "* prove that your output file has the expected number of lines"
   ]
  },
  {
   "cell_type": "code",
   "execution_count": null,
   "metadata": {},
   "outputs": [],
   "source": [
    "tail -7215 Locus_Germplasm_Phenotype_20130122.txt > Data_Only.csv\n",
    "wc -l Data_Only.csv"
   ]
  },
  {
   "cell_type": "markdown",
   "metadata": {},
   "source": [
    "I use \"tail\" to show the last lines of a file. In this case I know the file has 7216 lines so I use tail with -7215 to show all the lines except the first one. With \">\" I direct the output of \"tail\" to the file Data_Only.csv. Finally, with \"wc -l\", I count the number of lines of the file and I prove that it has the expected number of lines. "
   ]
  },
  {
   "cell_type": "markdown",
   "metadata": {},
   "source": [
    "## Problem 6\n",
    "\n",
    "* Create a command that shows all of the lines that have a phenotype including the word \"root\""
   ]
  },
  {
   "cell_type": "code",
   "execution_count": null,
   "metadata": {
    "scrolled": true
   },
   "outputs": [],
   "source": [
    "grep -i \"\\sroot\" Locus_Germplasm_Phenotype_20130122.txt"
   ]
  },
  {
   "cell_type": "markdown",
   "metadata": {},
   "source": [
    "I use \"grep\" to ask a file if it contains a certain set of characters. -i means \"insensitive to case\". I ask the file to show the lines that contain the word \"root\", preceded by space (\\s)."
   ]
  },
  {
   "cell_type": "markdown",
   "metadata": {},
   "source": [
    "## Problem 7\n",
    "\n",
    "* Create a command that writes the AGI Locus Code for every line that has a phenotype including the word \"root\" to a file called: **Root-associated-Loci.txt**\n"
   ]
  },
  {
   "cell_type": "code",
   "execution_count": null,
   "metadata": {},
   "outputs": [],
   "source": [
    "grep -i \"\\sroot\" Locus_Germplasm_Phenotype_20130122.txt | grep -E -io \"AT[1-5]G[0-9]{5}\" > Root-associated-Loci.txt\n",
    "cat Root-associated-Loci.txt"
   ]
  },
  {
   "cell_type": "markdown",
   "metadata": {},
   "source": [
    "First, I use \"grep\" to search for the lines that contain the word root. Then I use the pipe (|) to send the output from \"grep\" into the input of the next command \"grep\", which searches in the lines that contain the word \"root\". The second \"grep\" searches for the AGI Locus Code (AT followed by one digit between 1 and five, followed by a G, followed by five digits between 0 and 9. The -o argument prints ONLY the match. Finally, with \">\", I send the output to the file Root-asociated-Loci.txt. \"Cat\" displays the entire content of the file. Whit this code, I have the AGI Locus Codes of the lines that contain the word \"root\"."
   ]
  },
  {
   "cell_type": "markdown",
   "metadata": {},
   "source": [
    "## Problem 8\n",
    "\n",
    "* Create a command that writes the PubMed ID for every line that has a phenotype including the word \"root\" to a file called: **Root-associated-Publications.txt**\n"
   ]
  },
  {
   "cell_type": "code",
   "execution_count": null,
   "metadata": {},
   "outputs": [],
   "source": [
    "grep -i \"\\sroot\" Locus_Germplasm_Phenotype_20130122.txt | grep -E -io \"\\s[0-9]+$\" > Root-associated-Publications.txt\n",
    "cat Root-associated-Publications.txt"
   ]
  },
  {
   "cell_type": "markdown",
   "metadata": {},
   "source": [
    "This problem is the same as the previous one, but instead of looking for the Locus Code associated with Root, I look for the Pubmed ID associated with Root (preceded by space (\\s), followed by any number ([0-9]) one or more times (+) and placed in the end of a line ($)."
   ]
  },
  {
   "cell_type": "markdown",
   "metadata": {},
   "source": [
    "## Problem 9\n",
    "\n",
    "* _**Control experiment**_:  You would hypothesize that genes associated with roots **should be found on all chromosomes.**  Find a way (one or more commands) to test this hypothesis.  In this dataset, is the hypothesis true? "
   ]
  },
  {
   "cell_type": "code",
   "execution_count": null,
   "metadata": {},
   "outputs": [],
   "source": [
    "grep -E -io \"AT1G[0-9]{5}\" Root-associated-Loci.txt > Root-asociated-Loci-Chromosome-1.txt | wc -l Root-asociated-Loci-Chromosome-1.txt\n",
    "grep -E -io \"AT2G[0-9]{5}\" Root-associated-Loci.txt > Root-asociated-Loci-Chromosome-2.txt | wc -l Root-asociated-Loci-Chromosome-2.txt\n",
    "grep -E -io \"AT3G[0-9]{5}\" Root-associated-Loci.txt > Root-asociated-Loci-Chromosome-3.txt | wc -l Root-asociated-Loci-Chromosome-3.txt\n",
    "grep -E -io \"AT4G[0-9]{5}\" Root-associated-Loci.txt > Root-asociated-Loci-Chromosome-4.txt | wc -l Root-asociated-Loci-Chromosome-4.txt\n",
    "grep -E -io \"AT5G[0-9]{5}\" Root-associated-Loci.txt > Root-asociated-Loci-Chromosome-5.txt | wc -l Root-asociated-Loci-Chromosome-5.txt"
   ]
  },
  {
   "cell_type": "markdown",
   "metadata": {},
   "source": [
    "In this code, I use five times the command \"grep\" to search the AGI Locus Codes (genes) asociated with each chromosome (1-5) in the file that contains the AGI Locus Codes asociated with Root. Then, I write the matches in one file for each chromosome and I use the command \"wc -l\" to show the number of matches in each file so I can see how many genes are asociated with Root in each chromosome. In this case, I can see that the hypothesis is true and there are genes asociated with Root in all chromosomes."
   ]
  },
  {
   "cell_type": "markdown",
   "metadata": {},
   "source": [
    "## Problem 10\n",
    "\n",
    "* If your control experiment shows genes on every chromosome, then you can skip this question!  (you answered Problem 9 correctly!)\n",
    "\n",
    "*  If your control experiment shows genes only on one or two chromosomes, then you have to explain why... what could the problem be?  (I told you specifically to be careful about this problem!)"
   ]
  },
  {
   "cell_type": "markdown",
   "metadata": {},
   "source": [
    "My control experiments shows genes on every chromosome."
   ]
  },
  {
   "cell_type": "markdown",
   "metadata": {},
   "source": [
    "## Problem 11\n",
    "\n",
    "* 'git commit' and 'git push' your answers to your GitHub, then give me your GitHub username before you leave the class. I will clone your repositories and grade your answers."
   ]
  }
 ],
 "metadata": {
  "kernelspec": {
   "display_name": "Bash",
   "language": "bash",
   "name": "bash"
  },
  "language_info": {
   "codemirror_mode": "shell",
   "file_extension": ".sh",
   "mimetype": "text/x-sh",
   "name": "bash"
  }
 },
 "nbformat": 4,
 "nbformat_minor": 2
}
